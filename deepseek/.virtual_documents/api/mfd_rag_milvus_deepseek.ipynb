import os
api_key = os.getenv("DEEPSEEK_API_KEY")


import re
import os
from pathlib import Path
from typing import List, Dict
from pymilvus import model as milvus_model

def load_markdown(filepath: str) -> str:
    with open(filepath, 'r', encoding='utf-8') as f:
        return f.read()

def parse_law_markdown(text: str) -> List[Dict]:
    lines = text.splitlines()
    current_path = []
    law_chunks = []

    article_pattern = re.compile(r'^第[一二三四五六七八九十百千万零〇\d]+条')
    current_article = ""
    current_metadata = {}

    for line in lines:
        line = line.strip()
        if not line:
            continue
        line = re.sub(r'\*\*', '', line).strip()
        if line.startswith("#"):
            level = len(re.match(r'#+', line).group())
            title = line[level:].strip()
            if level <= len(current_path):
                current_path = current_path[:level-1]
            current_path.append(title)
        elif article_pattern.match(line):
            if current_article:
                law_chunks.append({
                    "content": current_article,
                    "path": " > ".join(current_metadata.get("path", []))
                })
            current_article = line
            current_metadata = {"path": current_path.copy()}
        else:
            current_article += "\n" + line

    if current_article:
        law_chunks.append({
            "content": current_article,
            "path": " > ".join(current_metadata.get("path", []))
        })

    return law_chunks

# 合并相邻条文（用于提供上下文）
def merge_articles(articles: List[Dict], group_size: int = 3) -> List[Dict]:
    merged = []
    i = 0
    while i < len(articles):
        group = articles[i:i+group_size]
        combined_content = "\n\n".join([a["content"] for a in group])
        combined_path = group[0]["path"]
        merged.append({
            "content": combined_content,
            "path": combined_path
        })
        i += group_size
    return merged

markdownContent = load_markdown("mfd.md")
parsed = parse_law_markdown(markdownContent)

text_lines = []
for textDic in 

merged = merge_articles(parsed)
l = len(merged)
print(f"✅ 成功切分并导出 {len(parsed)} 条法条，合并之后{len(merged)}") 


from pymilvus import MilvusClient

milvus_client = MilvusClient(uri="./milvus_demo.db")

collection_name = "mfd_rag_collection"


if milvus_client.has_collection(collection_name):
    milvus_client.drop_collection(collection_name)


milvus_client.create_collection(
    collection_name=collection_name,
    dimension=embedding_dim,
    metric_type="IP",  # 内积距离
    consistency_level="Strong",  # 支持的值为 (`"Strong"`, `"Session"`, `"Bounded"`, `"Eventually"`)。更多详情请参见 https://milvus.io/docs/consistency.md#Consistency-Level。
)


from tqdm import tqdm

data = []

doc_embeddings = embedding_model.encode_documents(text_lines)

for i, line in enumerate(tqdm(text_lines, desc="Creating embeddings")):
    data.append({"id": i, "vector": doc_embeddings[i], "text": line})

milvus_client.insert(collection_name=collection_name, data=data)


question = "How is data stored in milvus?"


search_res = milvus_client.search(
    collection_name=collection_name,
    data=embedding_model.encode_queries(
        [question]
    ),  
    limit=3,  
    search_params={"metric_type": "IP", "params": {}},  # 内积距离
    output_fields=["text"],  # 返回 text 字段
)


import json

retrieved_lines_with_distances = [
    (res["entity"]["text"], res["distance"]) for res in search_res[0]
]
print(json.dumps(retrieved_lines_with_distances, indent=4))


context = "\n".join(
    [line_with_distance[0] for line_with_distance in retrieved_lines_with_distances]
)


context = "\n".join(
    [line_with_distance[0] for line_with_distance in retrieved_lines_with_distances]
)


context


question


SYSTEM_PROMPT = """
Human: 你是一个 AI 助手。你能够从提供的上下文段落片段中找到问题的答案。
"""
USER_PROMPT = f"""
请使用以下用 <context> 标签括起来的信息片段来回答用 <question> 标签括起来的问题。最后追加原始回答的中文翻译，并用 <translated>和</translated> 标签标注。
<context>
{context}
</context>
<question>
{question}
</question>
<translated>
</translated>
"""


USER_PROMPT


response = deepseek_client.chat.completions.create(
    model="deepseek-chat",
    messages=[
        {"role": "system", "content": SYSTEM_PROMPT},
        {"role": "user", "content": USER_PROMPT},
    ],
)
print(response.choices[0].message.content)


def embed_chunks(chunks: List[Dict]) -> List[Dict]:
    embedder = milvus_model.DefaultEmbeddingFunction()
    results = []

    for i, chunk in enumerate(chunks):
        embedding = embedder(chunk["content"])
        results.append({
            "id": i,  # 添加 id 字段
            "content": chunk["content"],
            "path": chunk["path"],
            "vector": embedding
        })


    return results

embedded = embed_chunks()


from pymilvus import connections, Collection, FieldSchema, CollectionSchema, DataType

def create_collection(collection_name: str, dim: int):
    connections.connect()
    fields = [
        FieldSchema(name="content", dtype=DataType.VARCHAR, max_length=65535),
        FieldSchema(name="path", dtype=DataType.VARCHAR, max_length=1024),
        FieldSchema(name="embedding", dtype=DataType.FLOAT_VECTOR, dim=dim)
    ]
    schema = CollectionSchema(fields, description="Legal embedding collection")
    collection = Collection(name=collection_name, schema=schema)
    return collection

def insert_to_milvus(collection_name: str, vectors: List[Dict]):
    collection = Collection(name=collection_name)
    data = [
        [v["content"] for v in vectors],
        [v["path"] for v in vectors],
        [v["vector"] for v in vectors]
    ]
    collection.insert(data)
    collection.flush()



def search_milvus(collection_name: str, query_text: str, top_k=3):
    embedder = milvus_model.DefaultEmbeddingFunction()
    query_vec = embedder(query_text)
    collection = Collection(collection_name)
    collection.load()
    results = collection.search(
        data=[query_vec],
        anns_field="embedding",
        param={"metric_type": "L2", "params": {"nprobe": 10}},
        limit=top_k,
        output_fields=["content", "path"]
    )
    for hit in results[0]:
        print(f"路径: {hit.entity.get('path')}")
        print(f"内容: {hit.entity.get('content')}")
        print("-" * 80)



md_path = "./mfd.md"
collection_name = "civil_law"
raw_text = load_markdown(md_path)
law_chunks = parse_law_markdown(raw_text)
merged_chunks = merge_articles(law_chunks, group_size=3)
embedded = embed_chunks(merged_chunks)

dim = len(embedded[0]['vector'])
create_collection(collection_name, dim=dim)
insert_to_milvus(collection_name, embedded)

print("\n=== 示例查询 ===\n")
question = "借用他人的物品，损坏了该怎么赔？"
search_milvus(collection_name, question)
