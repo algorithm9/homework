import os

api_key = os.getenv("DEEPSEEK_API_KEY")


import re
import os
from pathlib import Path
from typing import List, Dict

text_lines = []
text = ""
with open("mfd.md", 'r', encoding='utf-8') as f:
    text = f.read()

lines = text.splitlines()
current_path = []
law_chunks = []

article_pattern = re.compile(r'^第[一二三四五六七八九十百千万零〇\d]+条')
current_article = ""

for line in lines:
    line = line.strip()
    if not line:
        continue
    line = re.sub(r'\*\*', '', line).strip()
    if article_pattern.match(line):
        if current_article:
            text_lines.append(current_article)
        current_article = line
    else:
        current_article += "\n" + line

if current_article:
    text_lines.append(current_article)




len(text_lines)


from openai import OpenAI

deepseek_client = OpenAI(
    api_key=api_key,
    base_url="https://api.deepseek.com/v1",  # DeepSeek API 的基地址
)


from pymilvus import model as milvus_model

embedding_model = milvus_model.DefaultEmbeddingFunction()


test_embedding = embedding_model.encode_queries(["This is a test"])[0]
embedding_dim = len(test_embedding)
print(embedding_dim)


from pymilvus import MilvusClient

milvus_client = MilvusClient(uri="./milvus_demo.db")

collection_name = "mfd_rag_collection"


if milvus_client.has_collection(collection_name):
    milvus_client.drop_collection(collection_name)


milvus_client.create_collection(
    collection_name=collection_name,
    dimension=embedding_dim,
    metric_type="IP",  # 内积距离
    consistency_level="Strong",  # 支持的值为 (`"Strong"`, `"Session"`, `"Bounded"`, `"Eventually"`)。更多详情请参见 https://milvus.io/docs/consistency.md#Consistency-Level。
)


from tqdm import tqdm

data = []

doc_embeddings = embedding_model.encode_documents(text_lines)

for i, line in enumerate(tqdm(text_lines, desc="Creating embeddings")):
    data.append({"id": i, "vector": doc_embeddings[i], "text": line})

milvus_client.insert(collection_name=collection_name, data=data)


question = "How is data stored in milvus?"


search_res = milvus_client.search(
    collection_name=collection_name,
    data=embedding_model.encode_queries(
        [question]
    ),  
    limit=3,  
    search_params={"metric_type": "IP", "params": {}},  # 内积距离
    output_fields=["text"],  # 返回 text 字段
)


import json

retrieved_lines_with_distances = [
    (res["entity"]["text"], res["distance"]) for res in search_res[0]
]
print(json.dumps(retrieved_lines_with_distances, indent=4))


context = "\n".join(
    [line_with_distance[0] for line_with_distance in retrieved_lines_with_distances]
)


context


question


SYSTEM_PROMPT = """
Human: 你是一个 AI 助手。你能够从提供的上下文段落片段中找到问题的答案。
"""
USER_PROMPT = f"""
请使用以下用 <context> 标签括起来的信息片段来回答用 <question> 标签括起来的问题。最后追加原始回答的中文翻译，并用 <translated>和</translated> 标签标注。
<context>
{context}
</context>
<question>
{question}
</question>
<translated>
</translated>
"""


USER_PROMPT


response = deepseek_client.chat.completions.create(
    model="deepseek-chat",
    messages=[
        {"role": "system", "content": SYSTEM_PROMPT},
        {"role": "user", "content": USER_PROMPT},
    ],
)
print(response.choices[0].message.content)



