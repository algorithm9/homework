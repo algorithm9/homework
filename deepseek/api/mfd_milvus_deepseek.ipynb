{
 "cells": [
  {
   "cell_type": "code",
   "execution_count": 13,
   "id": "cc3475c8-e0e5-414c-a625-3b85b389b54e",
   "metadata": {},
   "outputs": [],
   "source": [
    "import os\n",
    "\n",
    "api_key = os.getenv(\"DEEPSEEK_API_KEY\")"
   ]
  },
  {
   "cell_type": "code",
   "execution_count": 14,
   "id": "e8d82bdb-c4d6-4825-80fe-0962057eb406",
   "metadata": {},
   "outputs": [],
   "source": [
    "import re\n",
    "import os\n",
    "from pathlib import Path\n",
    "from typing import List, Dict\n",
    "\n",
    "text_lines = []\n",
    "text = \"\"\n",
    "with open(\"mfd.md\", 'r', encoding='utf-8') as f:\n",
    "    text = f.read()\n",
    "\n",
    "lines = text.splitlines()\n",
    "current_path = []\n",
    "law_chunks = []\n",
    "\n",
    "article_pattern = re.compile(r'^第[一二三四五六七八九十百千万零〇\\d]+条')\n",
    "current_article = \"\"\n",
    "\n",
    "for line in lines:\n",
    "    line = line.strip()\n",
    "    if not line:\n",
    "        continue\n",
    "    line = re.sub(r'\\*\\*', '', line).strip()\n",
    "    if article_pattern.match(line):\n",
    "        if current_article:\n",
    "            text_lines.append(current_article)\n",
    "        current_article = line\n",
    "    else:\n",
    "        current_article += \"\\n\" + line\n",
    "\n",
    "if current_article:\n",
    "    text_lines.append(current_article)\n",
    "\n"
   ]
  },
  {
   "cell_type": "code",
   "execution_count": 15,
   "id": "4c873196-8398-4710-8d5f-ec79df9a9833",
   "metadata": {},
   "outputs": [
    {
     "data": {
      "text/plain": [
       "388"
      ]
     },
     "execution_count": 15,
     "metadata": {},
     "output_type": "execute_result"
    }
   ],
   "source": [
    "len(text_lines)"
   ]
  },
  {
   "cell_type": "code",
   "execution_count": 16,
   "id": "f3d3fa50-05f0-4755-9474-b26880870d2f",
   "metadata": {},
   "outputs": [],
   "source": [
    "from openai import OpenAI\n",
    "\n",
    "deepseek_client = OpenAI(\n",
    "    api_key=api_key,\n",
    "    base_url=\"https://api.deepseek.com/v1\",  # DeepSeek API 的基地址\n",
    ")"
   ]
  },
  {
   "cell_type": "code",
   "execution_count": 17,
   "id": "c6a4acc7-4cfb-4e74-97f9-67227635cd2b",
   "metadata": {},
   "outputs": [],
   "source": [
    "from pymilvus import model as milvus_model\n",
    "\n",
    "embedding_model = milvus_model.DefaultEmbeddingFunction()"
   ]
  },
  {
   "cell_type": "code",
   "execution_count": 18,
   "id": "3219bd7b-eb9f-44e8-8fbd-ea981b779a43",
   "metadata": {},
   "outputs": [
    {
     "name": "stdout",
     "output_type": "stream",
     "text": [
      "768\n"
     ]
    }
   ],
   "source": [
    "test_embedding = embedding_model.encode_queries([\"This is a test\"])[0]\n",
    "embedding_dim = len(test_embedding)\n",
    "print(embedding_dim)"
   ]
  },
  {
   "cell_type": "code",
   "execution_count": 19,
   "id": "1d87c01e-fcb3-40ea-891e-81d2edcede64",
   "metadata": {},
   "outputs": [],
   "source": [
    "from pymilvus import MilvusClient\n",
    "\n",
    "milvus_client = MilvusClient(uri=\"./milvus_demo.db\")\n",
    "\n",
    "collection_name = \"mfd_rag_collection\""
   ]
  },
  {
   "cell_type": "code",
   "execution_count": 20,
   "id": "86ae21a4-d45d-405a-8f72-fd84a9eac074",
   "metadata": {},
   "outputs": [],
   "source": [
    "if milvus_client.has_collection(collection_name):\n",
    "    milvus_client.drop_collection(collection_name)"
   ]
  },
  {
   "cell_type": "code",
   "execution_count": 21,
   "id": "cbc69513-3db7-42c0-ba65-03c8ca3e19ce",
   "metadata": {},
   "outputs": [],
   "source": [
    "milvus_client.create_collection(\n",
    "    collection_name=collection_name,\n",
    "    dimension=embedding_dim,\n",
    "    metric_type=\"IP\",  # 内积距离\n",
    "    consistency_level=\"Strong\",  # 支持的值为 (`\"Strong\"`, `\"Session\"`, `\"Bounded\"`, `\"Eventually\"`)。更多详情请参见 https://milvus.io/docs/consistency.md#Consistency-Level。\n",
    ")"
   ]
  },
  {
   "cell_type": "code",
   "execution_count": 22,
   "id": "aab405a8-4b73-4c74-964d-3e1c841f256f",
   "metadata": {},
   "outputs": [
    {
     "name": "stderr",
     "output_type": "stream",
     "text": [
      "Creating embeddings: 100%|██████████| 388/388 [00:00<00:00, 531479.41it/s]\n"
     ]
    },
    {
     "data": {
      "text/plain": [
       "{'insert_count': 388, 'ids': [0, 1, 2, 3, 4, 5, 6, 7, 8, 9, 10, 11, 12, 13, 14, 15, 16, 17, 18, 19, 20, 21, 22, 23, 24, 25, 26, 27, 28, 29, 30, 31, 32, 33, 34, 35, 36, 37, 38, 39, 40, 41, 42, 43, 44, 45, 46, 47, 48, 49, 50, 51, 52, 53, 54, 55, 56, 57, 58, 59, 60, 61, 62, 63, 64, 65, 66, 67, 68, 69, 70, 71, 72, 73, 74, 75, 76, 77, 78, 79, 80, 81, 82, 83, 84, 85, 86, 87, 88, 89, 90, 91, 92, 93, 94, 95, 96, 97, 98, 99, 100, 101, 102, 103, 104, 105, 106, 107, 108, 109, 110, 111, 112, 113, 114, 115, 116, 117, 118, 119, 120, 121, 122, 123, 124, 125, 126, 127, 128, 129, 130, 131, 132, 133, 134, 135, 136, 137, 138, 139, 140, 141, 142, 143, 144, 145, 146, 147, 148, 149, 150, 151, 152, 153, 154, 155, 156, 157, 158, 159, 160, 161, 162, 163, 164, 165, 166, 167, 168, 169, 170, 171, 172, 173, 174, 175, 176, 177, 178, 179, 180, 181, 182, 183, 184, 185, 186, 187, 188, 189, 190, 191, 192, 193, 194, 195, 196, 197, 198, 199, 200, 201, 202, 203, 204, 205, 206, 207, 208, 209, 210, 211, 212, 213, 214, 215, 216, 217, 218, 219, 220, 221, 222, 223, 224, 225, 226, 227, 228, 229, 230, 231, 232, 233, 234, 235, 236, 237, 238, 239, 240, 241, 242, 243, 244, 245, 246, 247, 248, 249, 250, 251, 252, 253, 254, 255, 256, 257, 258, 259, 260, 261, 262, 263, 264, 265, 266, 267, 268, 269, 270, 271, 272, 273, 274, 275, 276, 277, 278, 279, 280, 281, 282, 283, 284, 285, 286, 287, 288, 289, 290, 291, 292, 293, 294, 295, 296, 297, 298, 299, 300, 301, 302, 303, 304, 305, 306, 307, 308, 309, 310, 311, 312, 313, 314, 315, 316, 317, 318, 319, 320, 321, 322, 323, 324, 325, 326, 327, 328, 329, 330, 331, 332, 333, 334, 335, 336, 337, 338, 339, 340, 341, 342, 343, 344, 345, 346, 347, 348, 349, 350, 351, 352, 353, 354, 355, 356, 357, 358, 359, 360, 361, 362, 363, 364, 365, 366, 367, 368, 369, 370, 371, 372, 373, 374, 375, 376, 377, 378, 379, 380, 381, 382, 383, 384, 385, 386, 387], 'cost': 0}"
      ]
     },
     "execution_count": 22,
     "metadata": {},
     "output_type": "execute_result"
    }
   ],
   "source": [
    "from tqdm import tqdm\n",
    "\n",
    "data = []\n",
    "\n",
    "doc_embeddings = embedding_model.encode_documents(text_lines)\n",
    "\n",
    "for i, line in enumerate(tqdm(text_lines, desc=\"Creating embeddings\")):\n",
    "    data.append({\"id\": i, \"vector\": doc_embeddings[i], \"text\": line})\n",
    "\n",
    "milvus_client.insert(collection_name=collection_name, data=data)"
   ]
  },
  {
   "cell_type": "code",
   "execution_count": 23,
   "id": "86fe22ad-6319-42bf-a95a-15d1b0c1d221",
   "metadata": {},
   "outputs": [],
   "source": [
    "question = \"借用他人的物品，损坏了该怎么赔？\""
   ]
  },
  {
   "cell_type": "code",
   "execution_count": 24,
   "id": "cb63317e-0f2d-474a-8a46-efe2e5c35cb4",
   "metadata": {},
   "outputs": [],
   "source": [
    "search_res = milvus_client.search(\n",
    "    collection_name=collection_name,\n",
    "    data=embedding_model.encode_queries(\n",
    "        [question]\n",
    "    ),\n",
    "    limit=3,\n",
    "    search_params={\"metric_type\": \"IP\", \"params\": {}},  # 内积距离\n",
    "    output_fields=[\"text\"],  # 返回 text 字段\n",
    ")"
   ]
  },
  {
   "cell_type": "code",
   "execution_count": 25,
   "id": "f9bd3252-9b5b-49c5-a254-4b6c44d74fb6",
   "metadata": {},
   "outputs": [
    {
     "name": "stdout",
     "output_type": "stream",
     "text": [
      "[\n",
      "    [\n",
      "        \"\\u7b2c\\u4e8c\\u767e\\u4e8c\\u5341\\u4e09\\u6761 \\u52a8\\u4ea7\\u7269\\u6743\\u7684\\u8bbe\\u7acb\\u548c\\u8f6c\\u8ba9\\uff0c\\u81ea\\u4ea4\\u4ed8\\u65f6\\u53d1\\u751f\\u6548\\u529b\\uff0c\\u4f46\\u662f\\u6cd5\\u5f8b\\u53e6\\u6709\\u89c4\\u5b9a\\u7684\\u9664\\u5916\\u3002\",\n",
      "        0.8118640184402466\n",
      "    ],\n",
      "    [\n",
      "        \"\\u7b2c\\u4e8c\\u767e\\u4e00\\u5341\\u56db\\u6761 \\u4e0d\\u52a8\\u4ea7\\u7269\\u6743\\u7684\\u8bbe\\u7acb\\u3001\\u53d8\\u66f4\\u3001\\u8f6c\\u8ba9\\u548c\\u6d88\\u706d\\uff0c\\u4f9d\\u7167\\u6cd5\\u5f8b\\u89c4\\u5b9a\\u5e94\\u5f53\\u767b\\u8bb0\\u7684\\uff0c\\u81ea\\u8bb0\\u8f7d\\u4e8e\\u4e0d\\u52a8\\u4ea7\\u767b\\u8bb0\\u7c3f\\u65f6\\u53d1\\u751f\\u6548\\u529b\\u3002\",\n",
      "        0.8118640184402466\n",
      "    ],\n",
      "    [\n",
      "        \"\\u7b2c\\u4e8c\\u767e\\u96f6\\u516b\\u6761 \\u4e0d\\u52a8\\u4ea7\\u6743\\u5229\\u7684\\u8bbe\\u7acb\\u3001\\u53d8\\u66f4\\u3001\\u8f6c\\u8ba9\\u548c\\u6d88\\u706d\\uff0c\\u5e94\\u5f53\\u4f9d\\u7167\\u6cd5\\u5f8b\\u89c4\\u5b9a\\u767b\\u8bb0\\u3002\\u52a8\\u4ea7\\u7269\\u6743\\u7684\\u8bbe\\u7acb\\u548c\\u8f6c\\u8ba9\\uff0c\\u5e94\\u5f53\\u4f9d\\u7167\\u6cd5\\u5f8b\\u89c4\\u5b9a\\u4ea4\\u4ed8\\u3002\",\n",
      "        0.8118640184402466\n",
      "    ]\n",
      "]\n"
     ]
    }
   ],
   "source": [
    "import json\n",
    "\n",
    "retrieved_lines_with_distances = [\n",
    "    (res[\"entity\"][\"text\"], res[\"distance\"]) for res in search_res[0]\n",
    "]\n",
    "print(json.dumps(retrieved_lines_with_distances, indent=4))"
   ]
  },
  {
   "cell_type": "code",
   "execution_count": 26,
   "id": "3e22e510-6d58-4aca-9ac7-37e92a64ef3a",
   "metadata": {},
   "outputs": [],
   "source": [
    "context = \"\\n\".join(\n",
    "    [line_with_distance[0] for line_with_distance in retrieved_lines_with_distances]\n",
    ")"
   ]
  },
  {
   "cell_type": "code",
   "execution_count": 27,
   "id": "015c8814-2b41-437d-96da-88ad0f200420",
   "metadata": {},
   "outputs": [
    {
     "data": {
      "text/plain": [
       "'第二百二十三条 动产物权的设立和转让，自交付时发生效力，但是法律另有规定的除外。\\n第二百一十四条 不动产物权的设立、变更、转让和消灭，依照法律规定应当登记的，自记载于不动产登记簿时发生效力。\\n第二百零八条 不动产权利的设立、变更、转让和消灭，应当依照法律规定登记。动产物权的设立和转让，应当依照法律规定交付。'"
      ]
     },
     "execution_count": 27,
     "metadata": {},
     "output_type": "execute_result"
    }
   ],
   "source": [
    "context"
   ]
  },
  {
   "cell_type": "code",
   "execution_count": 28,
   "id": "89d89c66-900a-4c52-be13-1c6fa4dc42a5",
   "metadata": {},
   "outputs": [
    {
     "data": {
      "text/plain": [
       "'借用他人的物品，损坏了该怎么赔？'"
      ]
     },
     "execution_count": 28,
     "metadata": {},
     "output_type": "execute_result"
    }
   ],
   "source": [
    "question"
   ]
  },
  {
   "cell_type": "code",
   "execution_count": 29,
   "id": "c60fb24d-5ec2-497b-a9cc-a5bb393ee680",
   "metadata": {},
   "outputs": [],
   "source": [
    "SYSTEM_PROMPT = \"\"\"\n",
    "Human: 你是一个 AI 助手。你能够从提供的上下文段落片段中找到问题的答案。\n",
    "\"\"\"\n",
    "USER_PROMPT = f\"\"\"\n",
    "请使用以下用 <context> 标签括起来的信息片段来回答用 <question> 标签括起来的问题。最后追加原始回答的中文翻译，并用 <translated>和</translated> 标签标注。\n",
    "<context>\n",
    "{context}\n",
    "</context>\n",
    "<question>\n",
    "{question}\n",
    "</question>\n",
    "<translated>\n",
    "</translated>\n",
    "\"\"\""
   ]
  },
  {
   "cell_type": "code",
   "execution_count": 30,
   "id": "cd03a3c2-293a-4831-a2b6-4f23d47bbfc8",
   "metadata": {},
   "outputs": [
    {
     "data": {
      "text/plain": [
       "'\\n请使用以下用 <context> 标签括起来的信息片段来回答用 <question> 标签括起来的问题。最后追加原始回答的中文翻译，并用 <translated>和</translated> 标签标注。\\n<context>\\n第二百二十三条 动产物权的设立和转让，自交付时发生效力，但是法律另有规定的除外。\\n第二百一十四条 不动产物权的设立、变更、转让和消灭，依照法律规定应当登记的，自记载于不动产登记簿时发生效力。\\n第二百零八条 不动产权利的设立、变更、转让和消灭，应当依照法律规定登记。动产物权的设立和转让，应当依照法律规定交付。\\n</context>\\n<question>\\n借用他人的物品，损坏了该怎么赔？\\n</question>\\n<translated>\\n</translated>\\n'"
      ]
     },
     "execution_count": 30,
     "metadata": {},
     "output_type": "execute_result"
    }
   ],
   "source": [
    "USER_PROMPT"
   ]
  },
  {
   "cell_type": "code",
   "execution_count": 31,
   "id": "a16ea1aa-a733-4db2-a867-d15c0a2c7ab8",
   "metadata": {},
   "outputs": [
    {
     "name": "stdout",
     "output_type": "stream",
     "text": [
      "根据提供的法律条文上下文，关于借用物品损坏赔偿问题需注意：\n",
      "\n",
      "1. 动产（如借用物品）的物权变动以交付为生效要件（第223条）\n",
      "2. 虽然条文未直接规定损害赔偿，但依据第208条\"动产物权的设立和转让应当依法交付\"可推知：\n",
      "   - 借用关系成立时即产生保管义务\n",
      "   - 损坏他人动产应承担侵权责任或违约责任\n",
      "   - 具体赔偿标准需结合《民法典》侵权责任编相关规定\n",
      "\n",
      "建议处理方式：\n",
      "- 优先协商修复或等价赔偿\n",
      "- 协商不成可按损害发生时市场价赔偿\n",
      "- 若属故意损坏可能涉及惩罚性赔偿\n",
      "\n",
      "<translated>\n",
      "根据提供的法律条文上下文，关于借用物品损坏赔偿问题需注意：\n",
      "\n",
      "1. 动产（如出借物品）的物权变动以交付为生效要件（第223条）  \n",
      "2. 虽然条文未直接规定损害赔偿，但依据第208条\"动产物权的设立和转让应当依法交付\"可推知：\n",
      "   - 借贷关系成立时即产生保管义务\n",
      "   - 损坏他人动产应承担侵权责任或违约责任  \n",
      "   - 具体赔偿标准需结合《民法典》侵权责任编相关规定\n",
      "\n",
      "建议处理方式：\n",
      "- 优先协商修复或等价赔偿  \n",
      "- 协商不成可按损害发生时市场价赔偿\n",
      "- 若属故意损坏可能涉及惩罚性赔偿\n",
      "</translated>\n"
     ]
    }
   ],
   "source": [
    "response = deepseek_client.chat.completions.create(\n",
    "    model=\"deepseek-chat\",\n",
    "    messages=[\n",
    "        {\"role\": \"system\", \"content\": SYSTEM_PROMPT},\n",
    "        {\"role\": \"user\", \"content\": USER_PROMPT},\n",
    "    ],\n",
    ")\n",
    "print(response.choices[0].message.content)"
   ]
  },
  {
   "cell_type": "code",
   "execution_count": 32,
   "id": "31ecfb25-8498-49cc-977e-fd7b0ccf15ff",
   "metadata": {},
   "outputs": [],
   "source": [
    "question = \"农村里的宅基地属于谁?\""
   ]
  },
  {
   "cell_type": "code",
   "execution_count": 33,
   "id": "b61346b9-306b-4cee-85c2-22ce4a465be0",
   "metadata": {},
   "outputs": [
    {
     "data": {
      "text/plain": [
       "'农村里的宅基地属于谁?'"
      ]
     },
     "execution_count": 33,
     "metadata": {},
     "output_type": "execute_result"
    }
   ],
   "source": [
    "question"
   ]
  },
  {
   "cell_type": "code",
   "execution_count": 34,
   "id": "2f4ad07e-054d-499b-afef-72638b2c0b68",
   "metadata": {},
   "outputs": [],
   "source": [
    "search_res = milvus_client.search(\n",
    "    collection_name=collection_name,\n",
    "    data=embedding_model.encode_queries(\n",
    "        [question]\n",
    "    ),\n",
    "    limit=3,\n",
    "    search_params={\"metric_type\": \"IP\", \"params\": {}},  # 内积距离\n",
    "    output_fields=[\"text\"],  # 返回 text 字段\n",
    ")"
   ]
  },
  {
   "cell_type": "code",
   "execution_count": 35,
   "id": "28b76b9c-4ab0-4a08-8e48-ecf3da90efb9",
   "metadata": {},
   "outputs": [
    {
     "name": "stdout",
     "output_type": "stream",
     "text": [
      "[\n",
      "    [\n",
      "        \"\\u7b2c\\u4e09\\u767e\\u4e00\\u5341\\u56db\\u6761 \\u6309\\u4efd\\u5171\\u6709\\u4eba\\u5bf9\\u5171\\u6709\\u7684\\u4e0d\\u52a8\\u4ea7\\u6216\\u8005\\u52a8\\u4ea7\\u6309\\u7167\\u5176\\u4efd\\u989d\\u4eab\\u6709\\u6240\\u6709\\u6743\\u3002\",\n",
      "        0.7870465517044067\n",
      "    ],\n",
      "    [\n",
      "        \"\\u7b2c\\u4e8c\\u767e\\u4e03\\u5341\\u4e03\\u6761 \\u4e1a\\u4e3b\\u4e0d\\u5f97\\u4ee5\\u653e\\u5f03\\u6743\\u5229\\u4e3a\\u7531\\u4e0d\\u5c65\\u884c\\u4e49\\u52a1\\u3002\",\n",
      "        0.7870465517044067\n",
      "    ],\n",
      "    [\n",
      "        \"\\u7b2c\\u4e8c\\u767e\\u96f6\\u4e94\\u6761 \\u672c\\u7f16\\u8c03\\u6574\\u56e0\\u7269\\u7684\\u5f52\\u5c5e\\u548c\\u5229\\u7528\\u4ea7\\u751f\\u7684\\u6c11\\u4e8b\\u5173\\u7cfb\\u3002\",\n",
      "        0.7870465517044067\n",
      "    ]\n",
      "]\n"
     ]
    }
   ],
   "source": [
    "import json\n",
    "\n",
    "retrieved_lines_with_distances = [\n",
    "    (res[\"entity\"][\"text\"], res[\"distance\"]) for res in search_res[0]\n",
    "]\n",
    "print(json.dumps(retrieved_lines_with_distances, indent=4))"
   ]
  },
  {
   "cell_type": "code",
   "execution_count": 36,
   "id": "3831160e-d035-4086-98ed-d153dd99af99",
   "metadata": {},
   "outputs": [],
   "source": [
    "context = \"\\n\".join(\n",
    "    [line_with_distance[0] for line_with_distance in retrieved_lines_with_distances]\n",
    ")"
   ]
  },
  {
   "cell_type": "code",
   "execution_count": 37,
   "id": "da9f66ff-aded-4fe9-a6f9-d3a30f1a3c74",
   "metadata": {},
   "outputs": [
    {
     "data": {
      "text/plain": [
       "'第三百一十四条 按份共有人对共有的不动产或者动产按照其份额享有所有权。\\n第二百七十七条 业主不得以放弃权利为由不履行义务。\\n第二百零五条 本编调整因物的归属和利用产生的民事关系。'"
      ]
     },
     "execution_count": 37,
     "metadata": {},
     "output_type": "execute_result"
    }
   ],
   "source": [
    "context"
   ]
  },
  {
   "cell_type": "code",
   "execution_count": 39,
   "id": "1ae45a31-54b4-4a84-8c88-78126a7677f3",
   "metadata": {},
   "outputs": [],
   "source": [
    "SYSTEM_PROMPT = \"\"\"\n",
    "Human: 你是一个 AI 助手。你能够从提供的上下文段落片段中找到问题的答案。\n",
    "\"\"\"\n",
    "USER_PROMPT = f\"\"\"\n",
    "请使用以下用 <context> 标签括起来的信息片段来回答用 <question> 标签括起来的问题。最后追加原始回答的中文翻译，并用 <translated>和</translated> 标签标注。\n",
    "<context>\n",
    "{context}\n",
    "</context>\n",
    "<question>\n",
    "{question}\n",
    "</question>\n",
    "<translated>\n",
    "</translated>\n",
    "\"\"\""
   ]
  },
  {
   "cell_type": "code",
   "execution_count": 40,
   "id": "58405891-5eb9-4a1b-9a16-18de8e179a9b",
   "metadata": {},
   "outputs": [
    {
     "data": {
      "text/plain": [
       "'\\n请使用以下用 <context> 标签括起来的信息片段来回答用 <question> 标签括起来的问题。最后追加原始回答的中文翻译，并用 <translated>和</translated> 标签标注。\\n<context>\\n第三百一十四条 按份共有人对共有的不动产或者动产按照其份额享有所有权。\\n第二百七十七条 业主不得以放弃权利为由不履行义务。\\n第二百零五条 本编调整因物的归属和利用产生的民事关系。\\n</context>\\n<question>\\n农村里的宅基地属于谁?\\n</question>\\n<translated>\\n</translated>\\n'"
      ]
     },
     "execution_count": 40,
     "metadata": {},
     "output_type": "execute_result"
    }
   ],
   "source": [
    "USER_PROMPT"
   ]
  },
  {
   "cell_type": "code",
   "execution_count": 41,
   "id": "1c82c860-ded1-4344-bbcc-99b36aee9c4f",
   "metadata": {},
   "outputs": [
    {
     "name": "stdout",
     "output_type": "stream",
     "text": [
      "根据提供的上下文，虽然未直接提及\"宅基地\"这一具体概念，但可以从以下法律条款推导相关原则：\n",
      "1. 依据《民法典》第二百零五条，物的归属问题属于民事关系调整范畴\n",
      "2. 第三百一十四条规定的按份共有制度可能适用于宅基地共有情况\n",
      "3. 第二百七十七条特别强调权利与义务的对等性，暗示宅基地使用权人不得随意放弃相关义务\n",
      "\n",
      "（注：由于上下文未提供宅基地权属的直接规定，建议补充《土地管理法》等相关法律条文以获得更准确答案）\n",
      "\n",
      "<translated>\n",
      "根据提供的上下文，虽然未直接提及\"宅基地\"这一具体概念，但可以从以下法律条款推导相关原则：\n",
      "1. 依据《民法典》第205条，物的归属问题属于民事关系调整范畴  \n",
      "2. 第314条规定的按份共有制度可能适用于宅基地共有情况  \n",
      "3. 第277条特别强调权利与义务的对等性，暗示宅基地使用权人不得随意放弃相关义务  \n",
      "\n",
      "（注：由于上下文未提供宅基地权属的直接规定，建议补充《土地管理法》等相关法律条文以获得更准确答案）\n",
      "</translated>\n"
     ]
    }
   ],
   "source": [
    "response = deepseek_client.chat.completions.create(\n",
    "    model=\"deepseek-chat\",\n",
    "    messages=[\n",
    "        {\"role\": \"system\", \"content\": SYSTEM_PROMPT},\n",
    "        {\"role\": \"user\", \"content\": USER_PROMPT},\n",
    "    ],\n",
    ")\n",
    "print(response.choices[0].message.content)"
   ]
  }
 ],
 "metadata": {
  "kernelspec": {
   "display_name": "Python (deepseek)",
   "language": "python",
   "name": "deepseek"
  },
  "language_info": {
   "codemirror_mode": {
    "name": "ipython",
    "version": 3
   },
   "file_extension": ".py",
   "mimetype": "text/x-python",
   "name": "python",
   "nbconvert_exporter": "python",
   "pygments_lexer": "ipython3",
   "version": "3.13.5"
  }
 },
 "nbformat": 4,
 "nbformat_minor": 5
}
